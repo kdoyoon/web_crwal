{
 "cells": [
  {
   "cell_type": "code",
   "execution_count": null,
   "metadata": {},
   "outputs": [],
   "source": [
    "#동적 크롤링을 위해 셀레니움 설치\n",
    "#!pip install selenium"
   ]
  },
  {
   "cell_type": "code",
   "execution_count": null,
   "metadata": {},
   "outputs": [],
   "source": [
    "# 필요 패키지\n",
    "import time\n",
    "import selenium\n",
    "from selenium import webdriver\n",
    "from selenium.webdriver.support.ui import WebDriverWait\n",
    "from selenium.webdriver.common.keys import Keys\n",
    "from selenium.webdriver.common.by import By\n",
    "import pandas as pd"
   ]
  },
  {
   "cell_type": "code",
   "execution_count": null,
   "metadata": {},
   "outputs": [],
   "source": [
    "chrome_options = webdriver.ChromeOptions()\n",
    "chrome_options.add_arguments('strat_maximized')\n",
    "driver = webdriver.Chrome('chromedriver', chrome_options = chrome_options)"
   ]
  },
  {
   "cell_type": "code",
   "execution_count": null,
   "metadata": {},
   "outputs": [],
   "source": [
    "url = '플레이 스토어 앱 페이지'\n",
    "driver.get(url)\n",
    "wait = WebDriverWait(driver, 5)"
   ]
  },
  {
   "cell_type": "code",
   "execution_count": null,
   "metadata": {},
   "outputs": [],
   "source": [
    "# 페이지 최하단으로 스크롤 내리기\n",
    "driver.execute_script(\"window.scrollTo(0, document.body.scrollHeight);\")\n",
    "# 버튼 찾기\n",
    "spread_review = driver.find_element(by = By.XPATH, value = '리뷰 더보기 버튼 주소')\n",
    "# 버튼 찾았는지?\n",
    "isTrue = spread_review.is_displayed()\n",
    "# 찾았으면 클릭\n",
    "if isTrue:\n",
    "    driver.execute_script(\"arguments[0].click()\", spread_review)\n",
    "    time.sleep(3)"
   ]
  },
  {
   "cell_type": "code",
   "execution_count": null,
   "metadata": {},
   "outputs": [],
   "source": [
    "# 정렬방식 최신순으로 바꾸기\n",
    "# 드롭다운 박스 열기\n",
    "sort_latest = driver.find_element(by= By.XPATH, value = '드롭박스')\n",
    "driver.execute_script(\"arguments[0].click()\", sort_latest)\n",
    "time.sleep(0.7)\n",
    "# 최신 버튼 누르기\n",
    "driver.find_element(by = By.XPATH, value = '드롭박스').click()"
   ]
  },
  {
   "cell_type": "code",
   "execution_count": null,
   "metadata": {},
   "outputs": [],
   "source": [
    "all_reviews = driver.find_element(by = By.XPATH, value = '리뷰의 주소')\n",
    "# 스크롤 내릴 횟수 지정_ex.10\n",
    "# 'arguments[0].scrollTop = arguments[0].scrollHeight' : 로드 된 페이지의 높이 만큰 내림\n",
    "for i in range(10):\n",
    "    driver.execute_script('arguments[0].scrollTop = arguments[0].scrollHeight', all_reviews)\n",
    "    time.sleep(3)\n"
   ]
  },
  {
   "cell_type": "code",
   "execution_count": null,
   "metadata": {},
   "outputs": [],
   "source": [
    "data = pd.DataFrame(data = [], columns = ['날짜', '리뷰','별점'])\n",
    "\n",
    "# 리뷰 하위 항목에 대한 클래스 지정\n",
    "dates = driver.find_elements(by = By.XPATH, value = '//span[@class=\"bp9Aid\"]')\n",
    "reviews = driver.find_elements(by = By.XPATH, value = '//div[@class=\"h3YV2d\"]')\n",
    "stargrades = driver.find_elements(by = By.XPATH, value = '//div[@class=\"iXRFPc\"]')\n",
    "\n",
    "len(reviews)\n",
    "\n",
    "for i in range(len(reviews)):\n",
    "    temp = []\n",
    "    temp.append(dates[i].text)\n",
    "    temp.append(reviews[i].text)\n",
    "    temp.append(stargrades[i].get_attribute('aria-label'))\n",
    "    \n",
    "    temp = pd.DataFrame(data = [temp], columns = data.columns)\n",
    "    data = pd.concat([data,temp])\n",
    "    \n",
    "print('완료!')\n",
    "\n",
    "data.reset_index(inplace = True, drop = True)"
   ]
  }
 ],
 "metadata": {
  "language_info": {
   "name": "python"
  },
  "orig_nbformat": 4
 },
 "nbformat": 4,
 "nbformat_minor": 2
}
